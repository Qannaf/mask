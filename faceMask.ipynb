{
 "cells": [
  {
   "cell_type": "markdown",
   "metadata": {},
   "source": [
    "### 1) Impoerter les packages nécessaires"
   ]
  },
  {
   "cell_type": "code",
   "execution_count": null,
   "metadata": {},
   "outputs": [],
   "source": [
    "#packages deep learning\n",
    "from __future__ import print_function\n",
    "from tensorflow import keras\n",
    "from tensorflow.keras.models import Sequential\n",
    "from tensorflow.keras.layers import Dense, Dropout, Flatten\n",
    "from tensorflow.keras.layers import Conv2D, MaxPooling2D\n",
    "from tensorflow.keras import backend as K\n",
    "\n",
    "#Packages initiales\n",
    "import os\n",
    "import cv2\n",
    "import matplotlib.pyplot as plt\n",
    "import numpy as np\n",
    "from random import shuffle\n",
    "import pandas as pd\n"
   ]
  },
  {
   "cell_type": "markdown",
   "metadata": {},
   "source": [
    "### 2) Télécharger la base de données"
   ]
  },
  {
   "cell_type": "code",
   "execution_count": 3,
   "metadata": {},
   "outputs": [
    {
     "name": "stdout",
     "output_type": "stream",
     "text": [
      "x shape (1376, 160, 160, 3)\n"
     ]
    }
   ],
   "source": [
    "mask = 'H:/facial_mask_classifier/data/with_mask'\n",
    "no_mask = 'H:/facial_mask_classifier/data/without_mask'\n",
    "\n",
    "\n",
    "images = []\n",
    "for file in list(os.listdir(mask)):\n",
    "    images.append(cv2.imread(mask+'/'+file))\n",
    "    \n",
    "for file in list(os.listdir(no_mask)):\n",
    "    images.append(cv2.imread(no_mask+'/'+file)) \n",
    "    \n",
    "images = np.array([cv2.resize(img,(160,160),interpolation=cv2.INTER_AREA) for img in images])    \n",
    "print('x shape',images.shape)\n"
   ]
  },
  {
   "cell_type": "code",
   "execution_count": 4,
   "metadata": {},
   "outputs": [],
   "source": [
    "n_mask, n_no_mask = len(list(os.listdir(mask))),   len(list(os.listdir(no_mask)))\n",
    "labels = np.zeros(( n_mask  + n_no_mask, 2  ))\n",
    "labels[:n_mask,0],  labels[n_mask:,1] = 1,  1"
   ]
  },
  {
   "cell_type": "markdown",
   "metadata": {},
   "source": [
    "### 3) Préparation la base de données"
   ]
  },
  {
   "cell_type": "code",
   "execution_count": 7,
   "metadata": {},
   "outputs": [],
   "source": [
    "data_size = labels.shape[0]\n",
    "index = list(range(data_size))\n",
    "shuffle(index)\n",
    "index = np.array(index)\n",
    "\n",
    "images, labels =   images[index], labels[index,:]\n",
    "\n",
    "x_train , x_test =  images[:int(0.8*data_size)],   images[int(0.8*data_size):]\n",
    "y_train , y_test =  labels[:int(0.8*data_size),:] , labels[int(0.8*data_size):,:]\n"
   ]
  },
  {
   "cell_type": "markdown",
   "metadata": {},
   "source": [
    "### 4) Création model"
   ]
  },
  {
   "cell_type": "code",
   "execution_count": 9,
   "metadata": {},
   "outputs": [
    {
     "name": "stdout",
     "output_type": "stream",
     "text": [
      "Model: \"sequential\"\n",
      "_________________________________________________________________\n",
      "Layer (type)                 Output Shape              Param #   \n",
      "=================================================================\n",
      "conv2d (Conv2D)              (None, 158, 158, 32)      896       \n",
      "_________________________________________________________________\n",
      "max_pooling2d (MaxPooling2D) (None, 79, 79, 32)        0         \n",
      "_________________________________________________________________\n",
      "conv2d_1 (Conv2D)            (None, 77, 77, 32)        9248      \n",
      "_________________________________________________________________\n",
      "max_pooling2d_1 (MaxPooling2 (None, 38, 38, 32)        0         \n",
      "_________________________________________________________________\n",
      "conv2d_2 (Conv2D)            (None, 36, 36, 64)        18496     \n",
      "_________________________________________________________________\n",
      "max_pooling2d_2 (MaxPooling2 (None, 18, 18, 64)        0         \n",
      "_________________________________________________________________\n",
      "dropout (Dropout)            (None, 18, 18, 64)        0         \n",
      "_________________________________________________________________\n",
      "flatten (Flatten)            (None, 20736)             0         \n",
      "_________________________________________________________________\n",
      "dense (Dense)                (None, 64)                1327168   \n",
      "_________________________________________________________________\n",
      "dense_1 (Dense)              (None, 32)                2080      \n",
      "_________________________________________________________________\n",
      "dense_2 (Dense)              (None, 2)                 66        \n",
      "=================================================================\n",
      "Total params: 1,357,954\n",
      "Trainable params: 1,357,954\n",
      "Non-trainable params: 0\n",
      "_________________________________________________________________\n"
     ]
    }
   ],
   "source": [
    "model = Sequential()\n",
    "model.add(Conv2D(32, kernel_size=(3, 3),activation='relu',input_shape=(160,160,3)))\n",
    "model.add(MaxPooling2D(pool_size=(2, 2)))\n",
    "model.add(Conv2D(32, (3, 3), activation='relu'))\n",
    "model.add(MaxPooling2D(pool_size=(2, 2)))\n",
    "model.add(Conv2D(64, (3, 3), activation='relu'))\n",
    "model.add(MaxPooling2D(pool_size=(2, 2)))\n",
    "model.add(Dropout(0.25))\n",
    "model.add(Flatten())\n",
    "model.add(Dense(64, activation='relu'))\n",
    "model.add(Dense(32, activation='relu'))\n",
    "model.add(Dense(2, activation='softmax'))\n",
    "\n",
    "model.compile(loss=keras.losses.categorical_crossentropy,optimizer=keras.optimizers.Adam(learning_rate=0.001),metrics=['accuracy'])\n",
    "\n",
    "model.summary()"
   ]
  },
  {
   "cell_type": "markdown",
   "metadata": {},
   "source": [
    "### 5) entrainer le model et sauvgarder the best"
   ]
  },
  {
   "cell_type": "code",
   "execution_count": 11,
   "metadata": {
    "scrolled": true
   },
   "outputs": [
    {
     "name": "stdout",
     "output_type": "stream",
     "text": [
      "Train on 1100 samples, validate on 276 samples\n",
      "Epoch 1/100\n",
      "WARNING:tensorflow:Entity <function Function._initialize_uninitialized_variables.<locals>.initialize_variables at 0x0000018CFEC8FDC8> could not be transformed and will be executed as-is. Please report this to the AutoGraph team. When filing the bug, set the verbosity to 10 (on Linux, `export AUTOGRAPH_VERBOSITY=10`) and attach the full output. Cause: module 'gast' has no attribute 'Num'\n",
      "WARNING: Entity <function Function._initialize_uninitialized_variables.<locals>.initialize_variables at 0x0000018CFEC8FDC8> could not be transformed and will be executed as-is. Please report this to the AutoGraph team. When filing the bug, set the verbosity to 10 (on Linux, `export AUTOGRAPH_VERBOSITY=10`) and attach the full output. Cause: module 'gast' has no attribute 'Num'\n",
      "1100/1100 [==============================] - 28s 25ms/sample - loss: 9.9871 - accuracy: 0.7236 - val_loss: 0.1141 - val_accuracy: 0.9710\n",
      "Epoch 2/100\n",
      "1100/1100 [==============================] - 26s 24ms/sample - loss: 0.1230 - accuracy: 0.9600 - val_loss: 0.1286 - val_accuracy: 0.9457\n",
      "Epoch 3/100\n",
      "1100/1100 [==============================] - 25s 23ms/sample - loss: 0.0785 - accuracy: 0.9755 - val_loss: 0.0469 - val_accuracy: 0.9891\n",
      "Epoch 4/100\n",
      "1100/1100 [==============================] - 25s 23ms/sample - loss: 0.0461 - accuracy: 0.9827 - val_loss: 0.0597 - val_accuracy: 0.9891\n",
      "Epoch 5/100\n",
      "1100/1100 [==============================] - 25s 23ms/sample - loss: 0.0394 - accuracy: 0.9836 - val_loss: 0.0591 - val_accuracy: 0.9783\n",
      "Epoch 6/100\n",
      "1100/1100 [==============================] - 25s 23ms/sample - loss: 0.0280 - accuracy: 0.9882 - val_loss: 0.0380 - val_accuracy: 0.9891\n",
      "Epoch 7/100\n",
      "1100/1100 [==============================] - 26s 23ms/sample - loss: 0.0294 - accuracy: 0.9900 - val_loss: 0.0609 - val_accuracy: 0.9819\n",
      "Epoch 8/100\n",
      "1100/1100 [==============================] - 28s 25ms/sample - loss: 0.0129 - accuracy: 0.9964 - val_loss: 0.0218 - val_accuracy: 0.9891\n",
      "Epoch 9/100\n",
      "1100/1100 [==============================] - 26s 24ms/sample - loss: 0.0100 - accuracy: 0.9964 - val_loss: 0.0188 - val_accuracy: 0.9891\n",
      "Epoch 10/100\n",
      "1100/1100 [==============================] - 25s 23ms/sample - loss: 0.0041 - accuracy: 0.9991 - val_loss: 0.0104 - val_accuracy: 0.9964\n",
      "Epoch 11/100\n",
      "1100/1100 [==============================] - 25s 23ms/sample - loss: 0.0210 - accuracy: 0.9945 - val_loss: 0.0381 - val_accuracy: 0.9819\n",
      "Epoch 12/100\n",
      "1100/1100 [==============================] - 25s 23ms/sample - loss: 0.0160 - accuracy: 0.9955 - val_loss: 0.0209 - val_accuracy: 0.9891\n",
      "Epoch 13/100\n",
      "1100/1100 [==============================] - 25s 23ms/sample - loss: 0.0039 - accuracy: 1.0000 - val_loss: 0.0340 - val_accuracy: 0.9928\n",
      "Epoch 14/100\n",
      "1100/1100 [==============================] - 25s 23ms/sample - loss: 0.0406 - accuracy: 0.9845 - val_loss: 0.0250 - val_accuracy: 0.9928\n",
      "Epoch 15/100\n",
      "1100/1100 [==============================] - 25s 23ms/sample - loss: 0.1596 - accuracy: 0.9545 - val_loss: 0.2441 - val_accuracy: 0.9348\n",
      "Epoch 16/100\n",
      "1100/1100 [==============================] - 25s 23ms/sample - loss: 0.0700 - accuracy: 0.9800 - val_loss: 0.0372 - val_accuracy: 0.9819\n",
      "Epoch 17/100\n",
      "1100/1100 [==============================] - 25s 23ms/sample - loss: 0.0430 - accuracy: 0.9927 - val_loss: 0.0290 - val_accuracy: 0.9891\n",
      "Epoch 18/100\n",
      "1100/1100 [==============================] - 25s 23ms/sample - loss: 0.0201 - accuracy: 0.9936 - val_loss: 0.0111 - val_accuracy: 0.9964\n",
      "Epoch 19/100\n",
      "1100/1100 [==============================] - 25s 23ms/sample - loss: 0.0194 - accuracy: 0.9936 - val_loss: 0.0156 - val_accuracy: 0.9928\n",
      "Epoch 20/100\n",
      "1100/1100 [==============================] - 25s 23ms/sample - loss: 0.0078 - accuracy: 0.9973 - val_loss: 0.0105 - val_accuracy: 0.9928\n"
     ]
    }
   ],
   "source": [
    "checkpoint_cb = keras.callbacks.ModelCheckpoint(\"face_mask.h5\", save_best_only=True)\n",
    "early_stopping_cb = keras.callbacks.EarlyStopping(patience=10, restore_best_weights=True)\n",
    "model = model.fit(x_train, y_train, epochs=100, validation_data=(x_test, y_test), callbacks=[checkpoint_cb, early_stopping_cb])"
   ]
  },
  {
   "cell_type": "markdown",
   "metadata": {},
   "source": [
    "### 6) Test le pérformence de model"
   ]
  },
  {
   "cell_type": "code",
   "execution_count": 22,
   "metadata": {},
   "outputs": [
    {
     "data": {
      "image/png": "[encoded data removed]",
      "text/plain": [
       "<Figure size 576x360 with 1 Axes>"
      ]
     },
     "metadata": {
      "needs_background": "light"
     },
     "output_type": "display_data"
    }
   ],
   "source": [
    "pd.DataFrame(model.history).plot(figsize=(8,5))\n",
    "plt.grid(True)\n",
    "plt.gca().set_ylim(0,1)\n",
    "plt.show()"
   ]
  },
  {
   "cell_type": "code",
   "execution_count": null,
   "metadata": {},
   "outputs": [],
   "source": [
    "del model\n",
    "cap.release()"
   ]
  },
  {
   "cell_type": "markdown",
   "metadata": {},
   "source": [
    "### 7) télécharger le model et l'utiliser"
   ]
  },
  {
   "cell_type": "code",
   "execution_count": null,
   "metadata": {},
   "outputs": [],
   "source": [
    "model = keras.models.load_model('face_mask.h5')"
   ]
  }
 ],
 "metadata": {
  "kernelspec": {
   "display_name": "Python 3",
   "language": "python",
   "name": "python3"
  },
  "language_info": {
   "codemirror_mode": {
    "name": "ipython",
    "version": 3
   },
   "file_extension": ".py",
   "mimetype": "text/x-python",
   "name": "python",
   "nbconvert_exporter": "python",
   "pygments_lexer": "ipython3",
   "version": "3.7.7"
  }
 },
 "nbformat": 4,
 "nbformat_minor": 4
}
